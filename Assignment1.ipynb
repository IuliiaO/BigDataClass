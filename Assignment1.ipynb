{
 "cells": [
  {
   "cell_type": "markdown",
   "metadata": {},
   "source": [
    "# Python Basics\n",
    "\n",
    "This is meant as a Python refresher (or crash course)."
   ]
  },
  {
   "cell_type": "markdown",
   "metadata": {},
   "source": [
    "**1**. (25 points) \n",
    "\n",
    "The code below generates the unique Pythagorean triplets $(a, b, c)$ where $a^2 + b^2 = c^2$ using a nested list comprehension for values of $a, b, c \\le 20$.\n",
    "\n",
    "```Python\n",
    "triplets = [(a, b, c) for a in range(1, 21) for b in range(a, 21) for c in range(b, 21) if a**2 + b**2 == c**2]\n",
    "```\n",
    "\n",
    "- Rewrite using a for loop with the same functionality"
   ]
  },
  {
   "cell_type": "code",
   "execution_count": 33,
   "metadata": {},
   "outputs": [
    {
     "data": {
      "text/plain": [
       "[(3, 4, 5), (5, 12, 13), (6, 8, 10), (8, 15, 17), (9, 12, 15), (12, 16, 20)]"
      ]
     },
     "execution_count": 33,
     "metadata": {},
     "output_type": "execute_result"
    }
   ],
   "source": [
    "triplets = [(a, b, c) for a in range(1, 21) for b in range(a, 21) for c in range(b, 21) if a**2 + b**2 == c**2]\n",
    "triplets"
   ]
  },
  {
   "cell_type": "code",
   "execution_count": 385,
   "metadata": {},
   "outputs": [
    {
     "name": "stdout",
     "output_type": "stream",
     "text": [
      "[(3, 4, 5), (5, 12, 13), (6, 8, 10), (8, 15, 17), (9, 12, 15), (12, 16, 20)]\n"
     ]
    }
   ],
   "source": [
    "triplets=[]\n",
    "for a in range(1,21):\n",
    "    for b in range (1,21):\n",
    "        for c in range (1,21): #Create a nested loop to iterate over all possible triples.\n",
    "            if a**2+b**2==c**2: #If the Pythogorian theorem is satisfied, \n",
    "                triple=a,b,c #create a tuple with the satisfying values.\n",
    "                if tuple(sorted(triple)) not in triplets: #Sort the elements in a tuple.If a tuple is not in a list \n",
    "                                                          # of triplets yet, add this tuple to the list.\n",
    "                    triplets.append(tuple(sorted(triple)))\n",
    "print (triplets)"
   ]
  },
  {
   "cell_type": "markdown",
   "metadata": {},
   "source": [
    "**2**. (25 points) \n",
    "\n",
    "The code below generates the sum of numbers meeting some predicate condition.\n",
    "\n",
    "```python\n",
    "def pred(a):\n",
    "    if a % 3 == 0:\n",
    "        return True\n",
    "    else:\n",
    "        return False\n",
    "    \n",
    "s = []\n",
    "for i in range(100):\n",
    "    if pred(i):\n",
    "        s.append(i**2)\n",
    "\n",
    "sum(s)\n",
    "```\n",
    "\n",
    "- Rewrite using `map`, `filter`, `reduce` and a `lambda` functions to achieve the same functionality.  Do not use the `pred` or `sum` functions."
   ]
  },
  {
   "cell_type": "code",
   "execution_count": 383,
   "metadata": {},
   "outputs": [
    {
     "data": {
      "text/plain": [
       "112761"
      ]
     },
     "execution_count": 383,
     "metadata": {},
     "output_type": "execute_result"
    }
   ],
   "source": [
    "def pred(a):\n",
    "    if a % 3 == 0:\n",
    "        return True\n",
    "    else:\n",
    "        return False\n",
    "    \n",
    "s = []\n",
    "for i in range(100):\n",
    "    if pred(i):\n",
    "        s.append(i**2)\n",
    "\n",
    "sum(s)"
   ]
  },
  {
   "cell_type": "code",
   "execution_count": 384,
   "metadata": {},
   "outputs": [
    {
     "name": "stdout",
     "output_type": "stream",
     "text": [
      "112761\n"
     ]
    }
   ],
   "source": [
    "from functools import reduce\n",
    "\n",
    "divisible_by_three = list(filter(lambda x: x%3==0, range(0, 100))) #Create a list of numbers divisible by 3.\n",
    "squared = list(map(lambda a: a**2, divisible_by_three)) #Create the list of squares of the numbers divisible by 3.\n",
    "summa = reduce((lambda x, y: x + y), squared) #Calculate the sum of the squares.\n",
    "print (summa)"
   ]
  },
  {
   "cell_type": "markdown",
   "metadata": {},
   "source": [
    "**3**. (50 points)\n",
    "\n",
    "- Perform the median polish to calculate just the *residuals* for this [example](https://mgimond.github.io/ES218/Week11a.html) in Python. \n",
    "- Use the matrix `xs` provided\n",
    "- Display the final result after 3 iterations to 1 decimal place and check if it agrees with \n",
    "\n",
    "![img](https://mgimond.github.io/ES218/img/twoway_09.jpg)"
   ]
  },
  {
   "cell_type": "code",
   "execution_count": 378,
   "metadata": {},
   "outputs": [],
   "source": [
    "import numpy as np"
   ]
  },
  {
   "cell_type": "code",
   "execution_count": 379,
   "metadata": {},
   "outputs": [],
   "source": [
    "xs = np.array([\n",
    "    (25.3,32.1,38.8,25.4), \n",
    "    (25.3,29,31,21.1),\n",
    "    (18.2,18.8,19.3,20.3),\n",
    "    (18.3,24.3,15.7,24),\n",
    "    (16.3,19,16.8,17.5)\n",
    "]).T"
   ]
  },
  {
   "cell_type": "code",
   "execution_count": 382,
   "metadata": {},
   "outputs": [
    {
     "name": "stdout",
     "output_type": "stream",
     "text": [
      "[[20.6   7.6   6.   -0.9   0.2  -3.5 ]\n",
      " [-1.5  -1.4   0.2   0.   -1.    0.7 ]\n",
      " [ 2.55  1.4  -0.2  -3.4   1.   -0.7 ]\n",
      " [-0.35 11.    4.7  -0.   -4.7   0.  ]\n",
      " [ 0.35 -3.1  -5.9   0.3   2.9   0.  ]]\n"
     ]
    }
   ],
   "source": [
    "def residuals(matrix):\n",
    "    ''' This function performs the median polish to calculate the residuals.'''\n",
    "    median = np.median(matrix) #Overall median\n",
    "    diff=matrix-median #Difference between original values and overall median.\n",
    "    diff=np.insert(diff, 0, np.array([0]).reshape(-1,1), 1) #Adds a row of zeros and a column of zeros.\n",
    "    diff=np.insert(diff, 0, np.array([0]).reshape(-1,1), 0)\n",
    "    diff[0,0]=median\n",
    "\n",
    "    def row_effects(matrix):\n",
    "        '''Calculates row effects.'''\n",
    "        \n",
    "        median=np.median(matrix[:,1:], axis=1) #Calculates row medians\n",
    "        matrix[:,0]=matrix[:,0]+median #Adds row medians to the row effect column.\n",
    "        median=median.reshape(-1,1)\n",
    "        matrix[:,1:]=matrix[:,1:]-median #Substracts row medians from the residual values.\n",
    "        return matrix\n",
    "        \n",
    "    def col_effects(matrix):\n",
    "        '''Calculates column effects.'''\n",
    "        \n",
    "        median=np.median(matrix[1:,:], axis=0) #Calculates column medians.\n",
    "        matrix[0,:]=matrix[0,:]+median #Adds column medians to the column effect row.\n",
    "        matrix[1:,:]=matrix[1:,:]-median #Substracts column medians from the residual values.\n",
    "        return matrix\n",
    "    \n",
    "    for i in range (3):\n",
    "        diff=row_effects(diff)\n",
    "        diff=col_effects(diff)\n",
    "   \n",
    "    diff[:,1:]=diff[:,1:].round(decimals=1)\n",
    "    return diff\n",
    "\n",
    "diff=residuals(xs)\n",
    "print(diff)"
   ]
  }
 ],
 "metadata": {
  "kernelspec": {
   "display_name": "Python 3",
   "language": "python",
   "name": "python3"
  },
  "language_info": {
   "codemirror_mode": {
    "name": "ipython",
    "version": 3
   },
   "file_extension": ".py",
   "mimetype": "text/x-python",
   "name": "python",
   "nbconvert_exporter": "python",
   "pygments_lexer": "ipython3",
   "version": "3.7.3"
  }
 },
 "nbformat": 4,
 "nbformat_minor": 2
}
